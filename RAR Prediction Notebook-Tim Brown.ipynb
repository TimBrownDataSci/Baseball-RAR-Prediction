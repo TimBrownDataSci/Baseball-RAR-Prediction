{
 "cells": [
  {
   "cell_type": "markdown",
   "id": "66ca80e2",
   "metadata": {},
   "source": [
    "\n",
    "# Predicting Player RAR Through Age 30"
   ]
  },
  {
   "cell_type": "markdown",
   "id": "3a35ef7e",
   "metadata": {},
   "source": [
    "This project serves as a quick dive into player value prediction through a player's age 30 season. This is a very basic and quick exploration of these topics. There are many more in-depth and intesive avenues that this concept can and has been pursued. The data sets are sourced from http://www.seanlahman.com/baseball-archive/statistics/ which contain basic offensive stats as well as counts of defensive starts. Many assumptions and simplifications of key metrics are made for the sake of simplification as this is moreso a proof-of-concept rather than an actionable report."
   ]
  },
  {
   "cell_type": "code",
   "execution_count": 1,
   "id": "c9280875",
   "metadata": {},
   "outputs": [],
   "source": [
    "# Everyone's favorite standard imports\n",
    "import numpy as np\n",
    "import pandas as pd\n",
    "import matplotlib.pyplot as plt\n",
    "%matplotlib inline"
   ]
  },
  {
   "cell_type": "code",
   "execution_count": 2,
   "id": "07e465c8",
   "metadata": {},
   "outputs": [],
   "source": [
    "#Reading in the .csv data\n",
    "batting = pd.read_csv(\"Batting.csv\")\n",
    "people = pd.read_csv(\"People.csv\")\n",
    "appearances = pd.read_csv(\"Appearances.csv\")\n",
    "prospects = pd.read_excel('historic_prospect_ranking_with_Lahman_ID.xlsx')"
   ]
  },
  {
   "cell_type": "markdown",
   "id": "69bfd8af",
   "metadata": {},
   "source": [
    "## Data Prep & Cleaning\n",
    "Now that we have the three main data sets loaded in, we can make the initial trimmings as we are only considering play from 1994 to 2017."
   ]
  },
  {
   "cell_type": "code",
   "execution_count": 3,
   "id": "95eaab28",
   "metadata": {},
   "outputs": [],
   "source": [
    "cut_off_year = 1994 # Creating a cutoff year as the game is drastically different over time\n",
    "batting = batting[batting.yearID >= cut_off_year] # Only selecting batting after cutoff year\n",
    "appearances = appearances[appearances.yearID >= cut_off_year] # Only selecting appearances after cutoff year\n",
    "\n",
    "batting = batting[batting.AB > 0] # Removing non-hitting players from batting dataframe\n",
    "appearances = appearances[appearances.G_batting > appearances.G_p] #Only considering players with more hitting games than pitching games"
   ]
  },
  {
   "cell_type": "markdown",
   "id": "fdf2796c",
   "metadata": {},
   "source": [
    "### Calculating Stats before further Data Cleaning"
   ]
  },
  {
   "cell_type": "markdown",
   "id": "e8d1593d",
   "metadata": {},
   "source": [
    "${\\displaystyle OBP={\\frac {H+BB+HBP}{AB+BB+SF+HBP}}}$"
   ]
  },
  {
   "cell_type": "code",
   "execution_count": 4,
   "id": "040deba8",
   "metadata": {},
   "outputs": [],
   "source": [
    "batting[\"1B\"] = batting[\"H\"] - batting[\"2B\"]-batting[\"3B\"]-batting[\"HR\"] -batting[\"SH\"] - batting[\"SF\"] # Calculating singles for SLG formula\n",
    "batting[\"OBP\"] = (batting.H + batting.BB + batting.HBP)/(batting.AB + batting.BB + batting.SF + batting.HBP) # Calculating OBP"
   ]
  },
  {
   "cell_type": "markdown",
   "id": "f8d44aeb",
   "metadata": {},
   "source": [
    "${\\displaystyle SLG={\\frac {TB}{AB}}}$"
   ]
  },
  {
   "cell_type": "code",
   "execution_count": 5,
   "id": "e949b070",
   "metadata": {},
   "outputs": [],
   "source": [
    "batting[\"SLG\"] = (1*batting[\"1B\"] + 2*batting[\"2B\"] + 3*batting[\"3B\"] + 4*batting[\"HR\"])/batting.AB # SLG calculation"
   ]
  },
  {
   "cell_type": "code",
   "execution_count": 6,
   "id": "277b5237",
   "metadata": {},
   "outputs": [],
   "source": [
    "batting[\"OPS\"] = batting.SLG + batting.OBP # OPS calculation"
   ]
  },
  {
   "cell_type": "markdown",
   "id": "8fdff944",
   "metadata": {},
   "source": [
    "${\\text{Offensive RAA}={\\frac {PA * (\\text{OPS-League Avg OPS})}{3.2135}}}$"
   ]
  },
  {
   "cell_type": "code",
   "execution_count": 7,
   "id": "45ab5e7d",
   "metadata": {},
   "outputs": [],
   "source": [
    "batting[\"oRAA\"] = batting.AB * (batting[\"OPS\"] - batting.groupby(\"yearID\").OPS.transform('mean'))/3.2135# Offensive RAA calculation"
   ]
  },
  {
   "cell_type": "markdown",
   "id": "50cf91bf",
   "metadata": {},
   "source": [
    "Lets do a quick check to verify this all works. We can take a peek at the highes oRAA value."
   ]
  },
  {
   "cell_type": "code",
   "execution_count": 8,
   "id": "0cbf0f6c",
   "metadata": {},
   "outputs": [
    {
     "data": {
      "text/html": [
       "<div>\n",
       "<style scoped>\n",
       "    .dataframe tbody tr th:only-of-type {\n",
       "        vertical-align: middle;\n",
       "    }\n",
       "\n",
       "    .dataframe tbody tr th {\n",
       "        vertical-align: top;\n",
       "    }\n",
       "\n",
       "    .dataframe thead th {\n",
       "        text-align: right;\n",
       "    }\n",
       "</style>\n",
       "<table border=\"1\" class=\"dataframe\">\n",
       "  <thead>\n",
       "    <tr style=\"text-align: right;\">\n",
       "      <th></th>\n",
       "      <th>playerID</th>\n",
       "      <th>yearID</th>\n",
       "      <th>stint</th>\n",
       "      <th>teamID</th>\n",
       "      <th>lgID</th>\n",
       "      <th>G</th>\n",
       "      <th>AB</th>\n",
       "      <th>R</th>\n",
       "      <th>H</th>\n",
       "      <th>2B</th>\n",
       "      <th>...</th>\n",
       "      <th>IBB</th>\n",
       "      <th>HBP</th>\n",
       "      <th>SH</th>\n",
       "      <th>SF</th>\n",
       "      <th>GIDP</th>\n",
       "      <th>1B</th>\n",
       "      <th>OBP</th>\n",
       "      <th>SLG</th>\n",
       "      <th>OPS</th>\n",
       "      <th>oRAA</th>\n",
       "    </tr>\n",
       "  </thead>\n",
       "  <tbody>\n",
       "    <tr>\n",
       "      <th>80766</th>\n",
       "      <td>bondsba01</td>\n",
       "      <td>2001</td>\n",
       "      <td>1</td>\n",
       "      <td>SFN</td>\n",
       "      <td>NL</td>\n",
       "      <td>153</td>\n",
       "      <td>476</td>\n",
       "      <td>129</td>\n",
       "      <td>156</td>\n",
       "      <td>32</td>\n",
       "      <td>...</td>\n",
       "      <td>35.0</td>\n",
       "      <td>9.0</td>\n",
       "      <td>0.0</td>\n",
       "      <td>2.0</td>\n",
       "      <td>5.0</td>\n",
       "      <td>47.0</td>\n",
       "      <td>0.51506</td>\n",
       "      <td>0.859244</td>\n",
       "      <td>1.374304</td>\n",
       "      <td>128.952311</td>\n",
       "    </tr>\n",
       "  </tbody>\n",
       "</table>\n",
       "<p>1 rows × 27 columns</p>\n",
       "</div>"
      ],
      "text/plain": [
       "        playerID  yearID  stint teamID lgID    G   AB    R    H  2B  ...  \\\n",
       "80766  bondsba01    2001      1    SFN   NL  153  476  129  156  32  ...   \n",
       "\n",
       "        IBB  HBP   SH   SF  GIDP    1B      OBP       SLG       OPS  \\\n",
       "80766  35.0  9.0  0.0  2.0   5.0  47.0  0.51506  0.859244  1.374304   \n",
       "\n",
       "             oRAA  \n",
       "80766  128.952311  \n",
       "\n",
       "[1 rows x 27 columns]"
      ]
     },
     "execution_count": 8,
     "metadata": {},
     "output_type": "execute_result"
    }
   ],
   "source": [
    "batting[batting.oRAA == batting.oRAA.max()]"
   ]
  },
  {
   "cell_type": "markdown",
   "id": "880668c4",
   "metadata": {},
   "source": [
    "It looks like the max oRAA comes from 2001 Barry Bonds. Now we can start calculating dRAA."
   ]
  },
  {
   "cell_type": "markdown",
   "id": "58fc7a28",
   "metadata": {},
   "source": [
    "Calculating the dRAA will involve the \"appearances\" data frame. Ultimately, we will use it alongside the \"batting\" dataframe for predictions. For ease of use, we will merge the two; though it will be easier to enforce the age cutoffs prior to the merge. This will involve working with the \"people\" dataframe. To simplify the age calculation, we use the consideration that season-age will be considered to respect with their age  as of July 1st."
   ]
  },
  {
   "cell_type": "code",
   "execution_count": 9,
   "id": "6837f29b",
   "metadata": {},
   "outputs": [],
   "source": [
    "conditions = [(people[\"birthDay\"] == 1 ) & (people[\"birthMonth\"] == 7 ), # List of conditions for birth date\n",
    "             (people[\"birthMonth\"] <= 7 ),\n",
    "             (people[\"birthMonth\"] > 7 )]\n",
    "values = [(people[\"birthYear\"] -1),(people[\"birthYear\"] -1),(people[\"birthYear\"])] # List of desired resultant values\n",
    "people[\"Adj. Year\"] = np.select(conditions, values) #Assigning values to an \"Adjusted Year\" column for later use\n",
    "\n",
    "batting[\"Age\"] = 0 # Initializing an Age column"
   ]
  },
  {
   "cell_type": "code",
   "execution_count": 10,
   "id": "4552066a",
   "metadata": {},
   "outputs": [],
   "source": [
    "# Looping through and creating and Age value for each season\n",
    "# A loop is required when working with two dataframes without merging, may take a while to run \n",
    "for i in range(len(batting)):\n",
    "    batting.iat[i,27] = batting.iat[i,1] - people[people.playerID == batting.iat[i,0]][\"Adj. Year\"]"
   ]
  },
  {
   "cell_type": "code",
   "execution_count": 11,
   "id": "e8b1102f",
   "metadata": {},
   "outputs": [],
   "source": [
    "batting = batting[batting.Age <= 30] # removing seasons over 30"
   ]
  },
  {
   "cell_type": "code",
   "execution_count": 12,
   "id": "51320a9f",
   "metadata": {},
   "outputs": [],
   "source": [
    "merged_stats = batting.merge(appearances, how = 'inner', on = ['playerID','yearID','teamID','lgID'])# merged on cross-over columns"
   ]
  },
  {
   "cell_type": "markdown",
   "id": "a537c3f1",
   "metadata": {},
   "source": [
    "Now, we have enough information in our merged table to calculate defensive RAA."
   ]
  },
  {
   "cell_type": "markdown",
   "id": "8ac9d756",
   "metadata": {},
   "source": [
    "$ dRAA = \\frac{1}{150} * \\sum{(\\text{Pos. Coeff.} * \\frac{\\text{Pos. Appearances}}{\\sum{All Appearances}})}$"
   ]
  },
  {
   "cell_type": "markdown",
   "id": "c7e3e54d",
   "metadata": {},
   "source": [
    "Before we can apply this formula, we have to calculate the normalized games started for each position."
   ]
  },
  {
   "cell_type": "code",
   "execution_count": 13,
   "id": "d934dac8",
   "metadata": {},
   "outputs": [],
   "source": [
    "normalized_starts = merged_stats.copy() # Creating a copy\n",
    "\n",
    "#Dropping columns that will not be used\n",
    "normalized_starts = normalized_starts.drop(columns = ['G_of','G_ph','G_pr'])[normalized_starts.GS >0]"
   ]
  },
  {
   "cell_type": "code",
   "execution_count": 14,
   "id": "826d2bef",
   "metadata": {},
   "outputs": [],
   "source": [
    "normalized_starts[\"AGS\"] = normalized_starts.iloc[:,33:42].sum(axis=1) #All games with positions played\n",
    "\n",
    "position = normalized_starts.columns[33:42]\n",
    "position_value = np.array([9.,-9.5,3.,2.,7.,-7.,2.5,-7.,-15.]) # Positional dRAA coefficient per position\n",
    "\n",
    "for i in range(len(position)): #Replacing each \"G_\" column with dRAA value\n",
    "    normalized_starts[position[i]] = normalized_starts[position[i]] * (position_value[i]/150)*normalized_starts[\"GS\"]/normalized_starts[\"AGS\"] \n",
    "    \n",
    "normalized_starts[\"dRAA\"] = normalized_starts.iloc[:,33:42].sum(axis=1) #Summing dRAA from all positions\n",
    "normalized_starts[\"RAR\"] = normalized_starts[\"dRAA\"] + normalized_starts[\"oRAA\"] + 20 #Summing dRAA and oRAA into RAR"
   ]
  },
  {
   "cell_type": "code",
   "execution_count": 15,
   "id": "23faa89a",
   "metadata": {},
   "outputs": [
    {
     "data": {
      "text/html": [
       "<div>\n",
       "<style scoped>\n",
       "    .dataframe tbody tr th:only-of-type {\n",
       "        vertical-align: middle;\n",
       "    }\n",
       "\n",
       "    .dataframe tbody tr th {\n",
       "        vertical-align: top;\n",
       "    }\n",
       "\n",
       "    .dataframe thead th {\n",
       "        text-align: right;\n",
       "    }\n",
       "</style>\n",
       "<table border=\"1\" class=\"dataframe\">\n",
       "  <thead>\n",
       "    <tr style=\"text-align: right;\">\n",
       "      <th></th>\n",
       "      <th>playerID</th>\n",
       "      <th>yearID</th>\n",
       "      <th>stint</th>\n",
       "      <th>teamID</th>\n",
       "      <th>lgID</th>\n",
       "      <th>G</th>\n",
       "      <th>AB</th>\n",
       "      <th>R</th>\n",
       "      <th>H</th>\n",
       "      <th>2B</th>\n",
       "      <th>...</th>\n",
       "      <th>G_2b</th>\n",
       "      <th>G_3b</th>\n",
       "      <th>G_ss</th>\n",
       "      <th>G_lf</th>\n",
       "      <th>G_cf</th>\n",
       "      <th>G_rf</th>\n",
       "      <th>G_dh</th>\n",
       "      <th>AGS</th>\n",
       "      <th>dRAA</th>\n",
       "      <th>RAR</th>\n",
       "    </tr>\n",
       "  </thead>\n",
       "  <tbody>\n",
       "    <tr>\n",
       "      <th>3244</th>\n",
       "      <td>rodrial01</td>\n",
       "      <td>2001</td>\n",
       "      <td>1</td>\n",
       "      <td>TEX</td>\n",
       "      <td>AL</td>\n",
       "      <td>162</td>\n",
       "      <td>632</td>\n",
       "      <td>133</td>\n",
       "      <td>201</td>\n",
       "      <td>34</td>\n",
       "      <td>...</td>\n",
       "      <td>0.0</td>\n",
       "      <td>0.0</td>\n",
       "      <td>7.513333</td>\n",
       "      <td>-0.0</td>\n",
       "      <td>0.0</td>\n",
       "      <td>-0.0</td>\n",
       "      <td>-0.1</td>\n",
       "      <td>162.0</td>\n",
       "      <td>7.413333</td>\n",
       "      <td>126.291617</td>\n",
       "    </tr>\n",
       "  </tbody>\n",
       "</table>\n",
       "<p>1 rows × 45 columns</p>\n",
       "</div>"
      ],
      "text/plain": [
       "       playerID  yearID  stint teamID lgID    G   AB    R    H  2B  ...  G_2b  \\\n",
       "3244  rodrial01    2001      1    TEX   AL  162  632  133  201  34  ...   0.0   \n",
       "\n",
       "      G_3b      G_ss  G_lf  G_cf  G_rf  G_dh    AGS      dRAA         RAR  \n",
       "3244   0.0  7.513333  -0.0   0.0  -0.0  -0.1  162.0  7.413333  126.291617  \n",
       "\n",
       "[1 rows x 45 columns]"
      ]
     },
     "execution_count": 15,
     "metadata": {},
     "output_type": "execute_result"
    }
   ],
   "source": [
    "normalized_starts[normalized_starts[\"RAR\"] == normalized_starts[\"RAR\"].max()]# What was the best RAA season in this span?"
   ]
  },
  {
   "cell_type": "markdown",
   "id": "cf795b6f",
   "metadata": {},
   "source": [
    "It looks like 2001 A-Rod had the best RAR season based on these conditions. <br>\n",
    "Moving forward, lets include League ID as a feature via dummy variables."
   ]
  },
  {
   "cell_type": "code",
   "execution_count": 16,
   "id": "94f6d57c",
   "metadata": {},
   "outputs": [],
   "source": [
    "dummies = pd.get_dummies(normalized_starts[['lgID']])# Creating dummy variables for AL/NL\n",
    "normalized_starts = pd.concat([normalized_starts, dummies[['lgID_AL', 'lgID_NL']]], axis = 1)# adding dummy variables into table"
   ]
  },
  {
   "cell_type": "code",
   "execution_count": 17,
   "id": "2cb9a8fc",
   "metadata": {},
   "outputs": [],
   "source": [
    "# Adding career RAA for each season, this will be the target variable\n",
    "normalized_starts[\"career_RAR\"] = normalized_starts.groupby(\"playerID\").RAR.transform('sum') "
   ]
  },
  {
   "cell_type": "code",
   "execution_count": 18,
   "id": "62622f4b",
   "metadata": {},
   "outputs": [],
   "source": [
    "# Dropping small AB sample size seasons for model accuracy\n",
    "normalized_starts = normalized_starts[normalized_starts.AB > 200].dropna() \n",
    "#Selecting players who have had >6 seasons in this span. 6 is rather arbitrary yet suits our needs.\n",
    "normalized_starts = normalized_starts[normalized_starts.groupby('playerID')['playerID'].transform('size') > 6]"
   ]
  },
  {
   "cell_type": "markdown",
   "id": "5279ceab",
   "metadata": {},
   "source": [
    "Now, the prospect rankings come into play. Because prospects have a history of volatility in terms of projecting future output, I have decided to include a feature that marks a \"1\" if the player has ever been in the Top 100 ranked prospect list, and a \"0\" otherwise. Hopefully any coefficient given to this feature in a model will only affect the prediction if the player had been a top ranked prospect. Otherwise any weight given will be discarded. There are likely more accurate ways of valuing former prospect status that merit more investigation and research"
   ]
  },
  {
   "cell_type": "code",
   "execution_count": 19,
   "id": "a81b5dba",
   "metadata": {},
   "outputs": [],
   "source": [
    "normalized_starts[\"PR\"] = 0 #Prospect Ranking column initialization\n",
    "\n",
    "conditions = [(np.isin(normalized_starts.playerID,prospects.lahman_id.unique()) == True ), # Conditional list\n",
    "              (np.isin(normalized_starts.playerID,prospects.lahman_id.unique()) ==  False)]\n",
    "values = [1,0] # Values\n",
    "normalized_starts[\"PR\"] = np.select(conditions, values)\n",
    "\n",
    "#The following was excluded as it lead to higher RMSE values in all modells. Explained in Conclusion below\n",
    "    #players = normalized_starts[normalized_starts.Age == 30].playerID.unique()\n",
    "    #normalized_starts = normalized_starts[normalized_starts.playerID.isin(players)]"
   ]
  },
  {
   "cell_type": "markdown",
   "id": "fcf7b6b3",
   "metadata": {},
   "source": [
    "This is the end of our data cleaning and preparation. Now we can start the modelling process."
   ]
  },
  {
   "cell_type": "markdown",
   "id": "78341a70",
   "metadata": {},
   "source": [
    "# Modelling\n",
    "> Using the \"normalized_starts\" dataframe, multiple types of regression will be used. For such a brief venture into the performance projection, the lowest RMSE model will used for analysis."
   ]
  },
  {
   "cell_type": "code",
   "execution_count": 20,
   "id": "449e5fb2",
   "metadata": {},
   "outputs": [],
   "source": [
    "from sklearn.model_selection import train_test_split\n",
    "from sklearn.metrics import mean_squared_error\n",
    "from sklearn.linear_model import RidgeCV\n",
    "from sklearn.linear_model import LinearRegression\n",
    "from sklearn.model_selection import LeaveOneOut\n",
    "from sklearn.model_selection import KFold\n",
    "from sklearn.model_selection import cross_val_score\n",
    "import statsmodels.api as sm\n",
    "import time"
   ]
  },
  {
   "cell_type": "code",
   "execution_count": 21,
   "id": "8125f2be",
   "metadata": {},
   "outputs": [],
   "source": [
    "# Split data into training and test sets\n",
    "y = normalized_starts.career_RAR\n",
    "X = normalized_starts.drop(['playerID', 'teamID', 'lgID','career_RAR'], axis = 1).astype('float64')\n",
    "X_train, X_test , y_train, y_test = train_test_split(X, y, test_size=0.3, random_state=1)"
   ]
  },
  {
   "cell_type": "markdown",
   "id": "f0c8f385",
   "metadata": {},
   "source": [
    "### Basic Linear Regression"
   ]
  },
  {
   "cell_type": "code",
   "execution_count": 22,
   "id": "c4cbe729",
   "metadata": {},
   "outputs": [
    {
     "name": "stdout",
     "output_type": "stream",
     "text": [
      "The RMSE is 89.24820383745069\n"
     ]
    }
   ],
   "source": [
    "regr_L = LinearRegression()\n",
    "regr_L.fit(X_train, y_train)\n",
    "mse_LR = mean_squared_error(y_test,regr_L.predict(X_test))\n",
    "print(\"The RMSE is\",np.sqrt(mse_LR))"
   ]
  },
  {
   "cell_type": "markdown",
   "id": "f09058bf",
   "metadata": {},
   "source": [
    "### Ridge Cross-Validation"
   ]
  },
  {
   "cell_type": "code",
   "execution_count": 23,
   "id": "dc5f1b65",
   "metadata": {},
   "outputs": [
    {
     "name": "stdout",
     "output_type": "stream",
     "text": [
      "The RMSE is 89.43555573700026\n"
     ]
    },
    {
     "name": "stderr",
     "output_type": "stream",
     "text": [
      "C:\\Users\\timbr\\anaconda3\\lib\\site-packages\\sklearn\\linear_model\\_base.py:141: FutureWarning: 'normalize' was deprecated in version 1.0 and will be removed in 1.2.\n",
      "If you wish to scale the data, use Pipeline with a StandardScaler in a preprocessing stage. To reproduce the previous behavior:\n",
      "\n",
      "from sklearn.pipeline import make_pipeline\n",
      "\n",
      "model = make_pipeline(StandardScaler(with_mean=False), _RidgeGCV())\n",
      "\n",
      "If you wish to pass a sample_weight parameter, you need to pass it as a fit parameter to each step of the pipeline as follows:\n",
      "\n",
      "kwargs = {s[0] + '__sample_weight': sample_weight for s in model.steps}\n",
      "model.fit(X, y, **kwargs)\n",
      "\n",
      "\n",
      "  warnings.warn(\n"
     ]
    }
   ],
   "source": [
    "alphas = 10**np.linspace(4,-2,100)*0.5\n",
    "ridgecv = RidgeCV(alphas = alphas, \n",
    "                  scoring = 'neg_mean_squared_error', \n",
    "                  normalize = True)\n",
    "ridgecv.fit(X_train, y_train)\n",
    "pred = ridgecv.predict(X_test)\n",
    "mse_RCV = np.sqrt(mean_squared_error(y_test,pred))\n",
    "print(\"The RMSE is\",mse_RCV)"
   ]
  },
  {
   "cell_type": "markdown",
   "id": "ae6bdb85",
   "metadata": {},
   "source": [
    "### LOOCV"
   ]
  },
  {
   "cell_type": "code",
   "execution_count": 24,
   "id": "c5fe6f49",
   "metadata": {},
   "outputs": [
    {
     "name": "stdout",
     "output_type": "stream",
     "text": [
      "The RMSE is 96.62202421571529\n"
     ]
    }
   ],
   "source": [
    "cv = LeaveOneOut()\n",
    "model = LinearRegression()\n",
    "scores = cross_val_score(model, X, y, scoring='neg_mean_squared_error',\n",
    "                         cv=cv, n_jobs=-1)\n",
    "mse_LOOCV = np.sqrt(np.mean(np.absolute(scores)))\n",
    "print(\"The RMSE is\",mse_LOOCV)"
   ]
  },
  {
   "cell_type": "markdown",
   "id": "e2844be5",
   "metadata": {},
   "source": [
    "### K_Fold"
   ]
  },
  {
   "cell_type": "code",
   "execution_count": 25,
   "id": "710cd44f",
   "metadata": {},
   "outputs": [
    {
     "name": "stdout",
     "output_type": "stream",
     "text": [
      "The RMSE is 97.70651837951122\n"
     ]
    }
   ],
   "source": [
    "cv = KFold(n_splits=10, random_state=1, shuffle=True)\n",
    "model = LinearRegression()\n",
    "scores = cross_val_score(model, X, y, scoring='neg_mean_squared_error',\n",
    "                         cv=cv, n_jobs=-1)\n",
    "mse_KCV = np.sqrt(np.mean(np.absolute(scores)))\n",
    "print(\"The RMSE is\",mse_KCV)"
   ]
  },
  {
   "cell_type": "markdown",
   "id": "d2da6210",
   "metadata": {},
   "source": [
    "### Best Subset"
   ]
  },
  {
   "cell_type": "markdown",
   "id": "e84e4eea",
   "metadata": {},
   "source": [
    "This section will take a long time to run. My current laptop can only handle 2-3 features before the process quickly gets out of hand. More value will certainly be found if using a more computationally-powerful system."
   ]
  },
  {
   "cell_type": "code",
   "execution_count": 26,
   "id": "c6856bfe",
   "metadata": {},
   "outputs": [],
   "source": [
    "import itertools "
   ]
  },
  {
   "cell_type": "code",
   "execution_count": 27,
   "id": "833b1b41",
   "metadata": {},
   "outputs": [],
   "source": [
    "def processSubset(feature_set):\n",
    "    # Fit model on feature_set and calculate RSS\n",
    "    model = sm.OLS(y,X[list(feature_set)])\n",
    "    regr = model.fit()\n",
    "    RMSE = np.sqrt(((regr.predict(X[list(feature_set)]) - y) ** 2).sum()/len(X))\n",
    "    return({\"model\":regr,\"RMSE\":RMSE})"
   ]
  },
  {
   "cell_type": "code",
   "execution_count": 28,
   "id": "7b2071e1",
   "metadata": {},
   "outputs": [
    {
     "name": "stdout",
     "output_type": "stream",
     "text": [
      "Processed 14190 models on 3 predictors in 15.414759397506714 seconds.\n"
     ]
    },
    {
     "data": {
      "text/html": [
       "<table class=\"simpletable\">\n",
       "<caption>OLS Regression Results</caption>\n",
       "<tr>\n",
       "  <th>Dep. Variable:</th>       <td>career_RAR</td>    <th>  R-squared (uncentered):</th>      <td>   0.962</td> \n",
       "</tr>\n",
       "<tr>\n",
       "  <th>Model:</th>                   <td>OLS</td>       <th>  Adj. R-squared (uncentered):</th> <td>   0.962</td> \n",
       "</tr>\n",
       "<tr>\n",
       "  <th>Method:</th>             <td>Least Squares</td>  <th>  F-statistic:       </th>          <td>   8841.</td> \n",
       "</tr>\n",
       "<tr>\n",
       "  <th>Date:</th>             <td>Mon, 10 Oct 2022</td> <th>  Prob (F-statistic):</th>           <td>  0.00</td>  \n",
       "</tr>\n",
       "<tr>\n",
       "  <th>Time:</th>                 <td>10:44:06</td>     <th>  Log-Likelihood:    </th>          <td> -6408.5</td> \n",
       "</tr>\n",
       "<tr>\n",
       "  <th>No. Observations:</th>      <td>  1053</td>      <th>  AIC:               </th>          <td>1.282e+04</td>\n",
       "</tr>\n",
       "<tr>\n",
       "  <th>Df Residuals:</th>          <td>  1050</td>      <th>  BIC:               </th>          <td>1.284e+04</td>\n",
       "</tr>\n",
       "<tr>\n",
       "  <th>Df Model:</th>              <td>     3</td>      <th>                     </th>              <td> </td>    \n",
       "</tr>\n",
       "<tr>\n",
       "  <th>Covariance Type:</th>      <td>nonrobust</td>    <th>                     </th>              <td> </td>    \n",
       "</tr>\n",
       "</table>\n",
       "<table class=\"simpletable\">\n",
       "<tr>\n",
       "     <td></td>       <th>coef</th>     <th>std err</th>      <th>t</th>      <th>P>|t|</th>  <th>[0.025</th>    <th>0.975]</th>  \n",
       "</tr>\n",
       "<tr>\n",
       "  <th>yearID</th> <td>    0.2769</td> <td>    0.019</td> <td>   14.706</td> <td> 0.000</td> <td>    0.240</td> <td>    0.314</td>\n",
       "</tr>\n",
       "<tr>\n",
       "  <th>Age</th>    <td>  -10.2473</td> <td>    1.410</td> <td>   -7.266</td> <td> 0.000</td> <td>  -13.015</td> <td>   -7.480</td>\n",
       "</tr>\n",
       "<tr>\n",
       "  <th>RAR</th>    <td>    3.8705</td> <td>    0.159</td> <td>   24.282</td> <td> 0.000</td> <td>    3.558</td> <td>    4.183</td>\n",
       "</tr>\n",
       "</table>\n",
       "<table class=\"simpletable\">\n",
       "<tr>\n",
       "  <th>Omnibus:</th>       <td>84.681</td> <th>  Durbin-Watson:     </th> <td>   1.740</td>\n",
       "</tr>\n",
       "<tr>\n",
       "  <th>Prob(Omnibus):</th> <td> 0.000</td> <th>  Jarque-Bera (JB):  </th> <td> 104.612</td>\n",
       "</tr>\n",
       "<tr>\n",
       "  <th>Skew:</th>          <td> 0.719</td> <th>  Prob(JB):          </th> <td>1.92e-23</td>\n",
       "</tr>\n",
       "<tr>\n",
       "  <th>Kurtosis:</th>      <td> 3.560</td> <th>  Cond. No.          </th> <td>    862.</td>\n",
       "</tr>\n",
       "</table><br/><br/>Notes:<br/>[1] R² is computed without centering (uncentered) since the model does not contain a constant.<br/>[2] Standard Errors assume that the covariance matrix of the errors is correctly specified."
      ],
      "text/plain": [
       "<class 'statsmodels.iolib.summary.Summary'>\n",
       "\"\"\"\n",
       "                                 OLS Regression Results                                \n",
       "=======================================================================================\n",
       "Dep. Variable:             career_RAR   R-squared (uncentered):                   0.962\n",
       "Model:                            OLS   Adj. R-squared (uncentered):              0.962\n",
       "Method:                 Least Squares   F-statistic:                              8841.\n",
       "Date:                Mon, 10 Oct 2022   Prob (F-statistic):                        0.00\n",
       "Time:                        10:44:06   Log-Likelihood:                         -6408.5\n",
       "No. Observations:                1053   AIC:                                  1.282e+04\n",
       "Df Residuals:                    1050   BIC:                                  1.284e+04\n",
       "Df Model:                           3                                                  \n",
       "Covariance Type:            nonrobust                                                  \n",
       "==============================================================================\n",
       "                 coef    std err          t      P>|t|      [0.025      0.975]\n",
       "------------------------------------------------------------------------------\n",
       "yearID         0.2769      0.019     14.706      0.000       0.240       0.314\n",
       "Age          -10.2473      1.410     -7.266      0.000     -13.015      -7.480\n",
       "RAR            3.8705      0.159     24.282      0.000       3.558       4.183\n",
       "==============================================================================\n",
       "Omnibus:                       84.681   Durbin-Watson:                   1.740\n",
       "Prob(Omnibus):                  0.000   Jarque-Bera (JB):              104.612\n",
       "Skew:                           0.719   Prob(JB):                     1.92e-23\n",
       "Kurtosis:                       3.560   Cond. No.                         862.\n",
       "==============================================================================\n",
       "\n",
       "Notes:\n",
       "[1] R² is computed without centering (uncentered) since the model does not contain a constant.\n",
       "[2] Standard Errors assume that the covariance matrix of the errors is correctly specified.\n",
       "\"\"\""
      ]
     },
     "execution_count": 28,
     "metadata": {},
     "output_type": "execute_result"
    }
   ],
   "source": [
    "def getBest(k):\n",
    "    \n",
    "    # This function just keeps track of time for me \n",
    "    tic = time.time()\n",
    "    \n",
    "    results = []\n",
    "    cols = []\n",
    "    \n",
    "    for combo in itertools.combinations(X.columns,k):\n",
    "        results.append(processSubset(combo))\n",
    "        cols.append(combo)\n",
    "\n",
    "    models = pd.DataFrame(results)\n",
    "    \n",
    "    # Choose the model with the smallest RMSE \n",
    "    best_model = models.loc[models[\"RMSE\"].argmin()]\n",
    "    \n",
    "    \n",
    "    toc = time.time()\n",
    "    print(\"Processed\", models.shape[0], \"models on\", k, \"predictors in\", (toc-tic), \"seconds.\")\n",
    "    \n",
    "    # Return the best model, along with some other useful information about the model\n",
    "    return best_model\n",
    "\n",
    "\n",
    "# Tester down here\n",
    "b = getBest(3)\n",
    "b['model'].summary()"
   ]
  },
  {
   "cell_type": "markdown",
   "id": "44b6f8ae",
   "metadata": {},
   "source": [
    "The best subset model on three predictors values Age, Year, and current cumulative RAA as the top three predictors for future RAA. The best model features an RMSE of 106.4, which is higher than our basic regressions above."
   ]
  },
  {
   "cell_type": "markdown",
   "id": "9254e886",
   "metadata": {},
   "source": [
    "# Predictions & Conclusions"
   ]
  },
  {
   "cell_type": "markdown",
   "id": "bb1b103d",
   "metadata": {},
   "source": [
    "With more research and exploration, more accurate and robust models can be created. Though it seems that a basic linear regression may be the most accurate predictive tool tried thus far. As such, it will be what we use for the final projection/analysis.<br>\n",
    "Let's first start with visualizing the predictions."
   ]
  },
  {
   "cell_type": "code",
   "execution_count": 29,
   "id": "7eb36c0d",
   "metadata": {},
   "outputs": [],
   "source": [
    "players = normalized_starts[normalized_starts.Age == 30].playerID.unique()\n",
    "predictions = normalized_starts[normalized_starts.playerID.isin(players)]\n",
    "\n",
    "def predict_vis(x):\n",
    "    plt.plot(regr_L.predict(predictions[predictions.playerID == players[x]].drop(['playerID', 'teamID', 'lgID','career_RAR'], axis = 1).astype('float64')), label = 'Predicted RAR')\n",
    "    plt.plot(np.arange(0,len(predictions[predictions.playerID == players[x]].career_RAR)),predictions[predictions.playerID == players[x]].career_RAR, label = 'Actual RAR')\n",
    "    plt.legend()\n",
    "    plt.xlabel(\"Season\")\n",
    "    plt.ylabel(\"RAR\")\n",
    "    plt.grid()\n",
    "    plt.title(players[x]+ \" RAR Predicted vs Actual\")"
   ]
  },
  {
   "cell_type": "code",
   "execution_count": 30,
   "id": "da7f6d5a",
   "metadata": {},
   "outputs": [
    {
     "data": {
      "image/png": "[encoded data removed]",
      "text/plain": [
       "<Figure size 432x288 with 1 Axes>"
      ]
     },
     "metadata": {
      "needs_background": "light"
     },
     "output_type": "display_data"
    }
   ],
   "source": [
    "predict_vis(34) # Enter any index and the corresponding eligible player predicted vs actual RAR will display"
   ]
  },
  {
   "cell_type": "code",
   "execution_count": 31,
   "id": "8db12ea9",
   "metadata": {},
   "outputs": [
    {
     "name": "stderr",
     "output_type": "stream",
     "text": [
      "C:\\Users\\timbr\\AppData\\Local\\Temp\\ipykernel_12216\\3313372263.py:4: SettingWithCopyWarning: \n",
      "A value is trying to be set on a copy of a slice from a DataFrame.\n",
      "Try using .loc[row_indexer,col_indexer] = value instead\n",
      "\n",
      "See the caveats in the documentation: https://pandas.pydata.org/pandas-docs/stable/user_guide/indexing.html#returning-a-view-versus-a-copy\n",
      "  predictions[\"P_RAR\"] = regr_L.predict(predictions.drop(['playerID', 'teamID', 'lgID','career_RAR'], axis = 1).astype('float64'))\n",
      "C:\\Users\\timbr\\AppData\\Local\\Temp\\ipykernel_12216\\3313372263.py:6: SettingWithCopyWarning: \n",
      "A value is trying to be set on a copy of a slice from a DataFrame.\n",
      "Try using .loc[row_indexer,col_indexer] = value instead\n",
      "\n",
      "See the caveats in the documentation: https://pandas.pydata.org/pandas-docs/stable/user_guide/indexing.html#returning-a-view-versus-a-copy\n",
      "  predictions[\"Proj_Diff\"] = predictions[\"P_RAR\"]-predictions[\"career_RAR\"]\n"
     ]
    }
   ],
   "source": [
    "#####This will give you a warning but it can be ignored for our purposes#####\n",
    "\n",
    "#Adding Predicted RAR to the predictions dataframe as \"P_RAR\"\n",
    "predictions[\"P_RAR\"] = regr_L.predict(predictions.drop(['playerID', 'teamID', 'lgID','career_RAR'], axis = 1).astype('float64'))\n",
    "#Calculating the difference between predictions and actual\n",
    "predictions[\"Proj_Diff\"] = predictions[\"P_RAR\"]-predictions[\"career_RAR\"]"
   ]
  },
  {
   "cell_type": "markdown",
   "id": "68b1842f",
   "metadata": {},
   "source": [
    "##  Top 10 Over Performers"
   ]
  },
  {
   "cell_type": "code",
   "execution_count": 32,
   "id": "7d9b0386",
   "metadata": {},
   "outputs": [
    {
     "data": {
      "text/html": [
       "<div>\n",
       "<style scoped>\n",
       "    .dataframe tbody tr th:only-of-type {\n",
       "        vertical-align: middle;\n",
       "    }\n",
       "\n",
       "    .dataframe tbody tr th {\n",
       "        vertical-align: top;\n",
       "    }\n",
       "\n",
       "    .dataframe thead th {\n",
       "        text-align: right;\n",
       "    }\n",
       "</style>\n",
       "<table border=\"1\" class=\"dataframe\">\n",
       "  <thead>\n",
       "    <tr style=\"text-align: right;\">\n",
       "      <th></th>\n",
       "      <th>playerID</th>\n",
       "      <th>yearID</th>\n",
       "      <th>stint</th>\n",
       "      <th>teamID</th>\n",
       "      <th>lgID</th>\n",
       "      <th>G</th>\n",
       "      <th>AB</th>\n",
       "      <th>R</th>\n",
       "      <th>H</th>\n",
       "      <th>2B</th>\n",
       "      <th>...</th>\n",
       "      <th>G_dh</th>\n",
       "      <th>AGS</th>\n",
       "      <th>dRAA</th>\n",
       "      <th>RAR</th>\n",
       "      <th>lgID_AL</th>\n",
       "      <th>lgID_NL</th>\n",
       "      <th>career_RAR</th>\n",
       "      <th>PR</th>\n",
       "      <th>P_RAR</th>\n",
       "      <th>Proj_Diff</th>\n",
       "    </tr>\n",
       "  </thead>\n",
       "  <tbody>\n",
       "    <tr>\n",
       "      <th>3774</th>\n",
       "      <td>cabremi01</td>\n",
       "      <td>2003</td>\n",
       "      <td>1</td>\n",
       "      <td>FLO</td>\n",
       "      <td>NL</td>\n",
       "      <td>87</td>\n",
       "      <td>314</td>\n",
       "      <td>39</td>\n",
       "      <td>84</td>\n",
       "      <td>21</td>\n",
       "      <td>...</td>\n",
       "      <td>-0.000000</td>\n",
       "      <td>89.0</td>\n",
       "      <td>-2.018352</td>\n",
       "      <td>43.983930</td>\n",
       "      <td>0</td>\n",
       "      <td>1</td>\n",
       "      <td>932.437064</td>\n",
       "      <td>1</td>\n",
       "      <td>569.635324</td>\n",
       "      <td>-362.801739</td>\n",
       "    </tr>\n",
       "    <tr>\n",
       "      <th>5808</th>\n",
       "      <td>cabremi01</td>\n",
       "      <td>2008</td>\n",
       "      <td>1</td>\n",
       "      <td>DET</td>\n",
       "      <td>AL</td>\n",
       "      <td>160</td>\n",
       "      <td>616</td>\n",
       "      <td>85</td>\n",
       "      <td>180</td>\n",
       "      <td>36</td>\n",
       "      <td>...</td>\n",
       "      <td>-0.585276</td>\n",
       "      <td>163.0</td>\n",
       "      <td>-9.237607</td>\n",
       "      <td>82.106511</td>\n",
       "      <td>1</td>\n",
       "      <td>0</td>\n",
       "      <td>932.437064</td>\n",
       "      <td>1</td>\n",
       "      <td>578.541138</td>\n",
       "      <td>-353.895926</td>\n",
       "    </tr>\n",
       "    <tr>\n",
       "      <th>1529</th>\n",
       "      <td>rodrial01</td>\n",
       "      <td>1997</td>\n",
       "      <td>1</td>\n",
       "      <td>SEA</td>\n",
       "      <td>AL</td>\n",
       "      <td>141</td>\n",
       "      <td>587</td>\n",
       "      <td>100</td>\n",
       "      <td>176</td>\n",
       "      <td>40</td>\n",
       "      <td>...</td>\n",
       "      <td>-0.100000</td>\n",
       "      <td>141.0</td>\n",
       "      <td>6.433333</td>\n",
       "      <td>83.892341</td>\n",
       "      <td>1</td>\n",
       "      <td>0</td>\n",
       "      <td>1008.924921</td>\n",
       "      <td>1</td>\n",
       "      <td>665.153390</td>\n",
       "      <td>-343.771531</td>\n",
       "    </tr>\n",
       "    <tr>\n",
       "      <th>6238</th>\n",
       "      <td>cabremi01</td>\n",
       "      <td>2009</td>\n",
       "      <td>1</td>\n",
       "      <td>DET</td>\n",
       "      <td>AL</td>\n",
       "      <td>160</td>\n",
       "      <td>611</td>\n",
       "      <td>96</td>\n",
       "      <td>198</td>\n",
       "      <td>34</td>\n",
       "      <td>...</td>\n",
       "      <td>-0.600000</td>\n",
       "      <td>159.0</td>\n",
       "      <td>-10.290000</td>\n",
       "      <td>96.548048</td>\n",
       "      <td>1</td>\n",
       "      <td>0</td>\n",
       "      <td>932.437064</td>\n",
       "      <td>1</td>\n",
       "      <td>641.547059</td>\n",
       "      <td>-290.890005</td>\n",
       "    </tr>\n",
       "    <tr>\n",
       "      <th>4455</th>\n",
       "      <td>rodrial01</td>\n",
       "      <td>2004</td>\n",
       "      <td>1</td>\n",
       "      <td>NYA</td>\n",
       "      <td>AL</td>\n",
       "      <td>155</td>\n",
       "      <td>601</td>\n",
       "      <td>112</td>\n",
       "      <td>172</td>\n",
       "      <td>24</td>\n",
       "      <td>...</td>\n",
       "      <td>-0.000000</td>\n",
       "      <td>157.0</td>\n",
       "      <td>2.132484</td>\n",
       "      <td>94.232664</td>\n",
       "      <td>1</td>\n",
       "      <td>0</td>\n",
       "      <td>1008.924921</td>\n",
       "      <td>1</td>\n",
       "      <td>722.909607</td>\n",
       "      <td>-286.015314</td>\n",
       "    </tr>\n",
       "    <tr>\n",
       "      <th>5811</th>\n",
       "      <td>canoro01</td>\n",
       "      <td>2008</td>\n",
       "      <td>1</td>\n",
       "      <td>NYA</td>\n",
       "      <td>AL</td>\n",
       "      <td>159</td>\n",
       "      <td>597</td>\n",
       "      <td>70</td>\n",
       "      <td>162</td>\n",
       "      <td>35</td>\n",
       "      <td>...</td>\n",
       "      <td>-0.000000</td>\n",
       "      <td>159.0</td>\n",
       "      <td>3.080000</td>\n",
       "      <td>61.215210</td>\n",
       "      <td>1</td>\n",
       "      <td>0</td>\n",
       "      <td>687.488375</td>\n",
       "      <td>0</td>\n",
       "      <td>423.226146</td>\n",
       "      <td>-264.262230</td>\n",
       "    </tr>\n",
       "    <tr>\n",
       "      <th>1401</th>\n",
       "      <td>jonesan01</td>\n",
       "      <td>1997</td>\n",
       "      <td>1</td>\n",
       "      <td>ATL</td>\n",
       "      <td>NL</td>\n",
       "      <td>153</td>\n",
       "      <td>399</td>\n",
       "      <td>60</td>\n",
       "      <td>92</td>\n",
       "      <td>18</td>\n",
       "      <td>...</td>\n",
       "      <td>-0.000000</td>\n",
       "      <td>154.0</td>\n",
       "      <td>-2.229610</td>\n",
       "      <td>42.872520</td>\n",
       "      <td>0</td>\n",
       "      <td>1</td>\n",
       "      <td>825.800212</td>\n",
       "      <td>1</td>\n",
       "      <td>574.569045</td>\n",
       "      <td>-251.231167</td>\n",
       "    </tr>\n",
       "    <tr>\n",
       "      <th>9760</th>\n",
       "      <td>uptonju01</td>\n",
       "      <td>2016</td>\n",
       "      <td>1</td>\n",
       "      <td>DET</td>\n",
       "      <td>AL</td>\n",
       "      <td>153</td>\n",
       "      <td>570</td>\n",
       "      <td>81</td>\n",
       "      <td>140</td>\n",
       "      <td>28</td>\n",
       "      <td>...</td>\n",
       "      <td>-0.193506</td>\n",
       "      <td>154.0</td>\n",
       "      <td>-6.688874</td>\n",
       "      <td>64.018819</td>\n",
       "      <td>1</td>\n",
       "      <td>0</td>\n",
       "      <td>733.866511</td>\n",
       "      <td>1</td>\n",
       "      <td>486.502473</td>\n",
       "      <td>-247.364039</td>\n",
       "    </tr>\n",
       "    <tr>\n",
       "      <th>4183</th>\n",
       "      <td>cabremi01</td>\n",
       "      <td>2004</td>\n",
       "      <td>1</td>\n",
       "      <td>FLO</td>\n",
       "      <td>NL</td>\n",
       "      <td>160</td>\n",
       "      <td>603</td>\n",
       "      <td>101</td>\n",
       "      <td>177</td>\n",
       "      <td>31</td>\n",
       "      <td>...</td>\n",
       "      <td>-0.099375</td>\n",
       "      <td>160.0</td>\n",
       "      <td>-7.473000</td>\n",
       "      <td>82.878829</td>\n",
       "      <td>0</td>\n",
       "      <td>1</td>\n",
       "      <td>932.437064</td>\n",
       "      <td>1</td>\n",
       "      <td>687.946366</td>\n",
       "      <td>-244.490698</td>\n",
       "    </tr>\n",
       "    <tr>\n",
       "      <th>2387</th>\n",
       "      <td>rodrial01</td>\n",
       "      <td>1999</td>\n",
       "      <td>1</td>\n",
       "      <td>SEA</td>\n",
       "      <td>AL</td>\n",
       "      <td>129</td>\n",
       "      <td>502</td>\n",
       "      <td>110</td>\n",
       "      <td>143</td>\n",
       "      <td>25</td>\n",
       "      <td>...</td>\n",
       "      <td>-0.000000</td>\n",
       "      <td>129.0</td>\n",
       "      <td>6.020000</td>\n",
       "      <td>85.784657</td>\n",
       "      <td>1</td>\n",
       "      <td>0</td>\n",
       "      <td>1008.924921</td>\n",
       "      <td>1</td>\n",
       "      <td>765.687519</td>\n",
       "      <td>-243.237402</td>\n",
       "    </tr>\n",
       "  </tbody>\n",
       "</table>\n",
       "<p>10 rows × 51 columns</p>\n",
       "</div>"
      ],
      "text/plain": [
       "       playerID  yearID  stint teamID lgID    G   AB    R    H  2B  ...  \\\n",
       "3774  cabremi01    2003      1    FLO   NL   87  314   39   84  21  ...   \n",
       "5808  cabremi01    2008      1    DET   AL  160  616   85  180  36  ...   \n",
       "1529  rodrial01    1997      1    SEA   AL  141  587  100  176  40  ...   \n",
       "6238  cabremi01    2009      1    DET   AL  160  611   96  198  34  ...   \n",
       "4455  rodrial01    2004      1    NYA   AL  155  601  112  172  24  ...   \n",
       "5811   canoro01    2008      1    NYA   AL  159  597   70  162  35  ...   \n",
       "1401  jonesan01    1997      1    ATL   NL  153  399   60   92  18  ...   \n",
       "9760  uptonju01    2016      1    DET   AL  153  570   81  140  28  ...   \n",
       "4183  cabremi01    2004      1    FLO   NL  160  603  101  177  31  ...   \n",
       "2387  rodrial01    1999      1    SEA   AL  129  502  110  143  25  ...   \n",
       "\n",
       "          G_dh    AGS       dRAA        RAR  lgID_AL  lgID_NL   career_RAR  \\\n",
       "3774 -0.000000   89.0  -2.018352  43.983930        0        1   932.437064   \n",
       "5808 -0.585276  163.0  -9.237607  82.106511        1        0   932.437064   \n",
       "1529 -0.100000  141.0   6.433333  83.892341        1        0  1008.924921   \n",
       "6238 -0.600000  159.0 -10.290000  96.548048        1        0   932.437064   \n",
       "4455 -0.000000  157.0   2.132484  94.232664        1        0  1008.924921   \n",
       "5811 -0.000000  159.0   3.080000  61.215210        1        0   687.488375   \n",
       "1401 -0.000000  154.0  -2.229610  42.872520        0        1   825.800212   \n",
       "9760 -0.193506  154.0  -6.688874  64.018819        1        0   733.866511   \n",
       "4183 -0.099375  160.0  -7.473000  82.878829        0        1   932.437064   \n",
       "2387 -0.000000  129.0   6.020000  85.784657        1        0  1008.924921   \n",
       "\n",
       "      PR       P_RAR   Proj_Diff  \n",
       "3774   1  569.635324 -362.801739  \n",
       "5808   1  578.541138 -353.895926  \n",
       "1529   1  665.153390 -343.771531  \n",
       "6238   1  641.547059 -290.890005  \n",
       "4455   1  722.909607 -286.015314  \n",
       "5811   0  423.226146 -264.262230  \n",
       "1401   1  574.569045 -251.231167  \n",
       "9760   1  486.502473 -247.364039  \n",
       "4183   1  687.946366 -244.490698  \n",
       "2387   1  765.687519 -243.237402  \n",
       "\n",
       "[10 rows x 51 columns]"
      ]
     },
     "execution_count": 32,
     "metadata": {},
     "output_type": "execute_result"
    }
   ],
   "source": [
    "predictions.nsmallest(n=10, columns=['Proj_Diff'])"
   ]
  },
  {
   "cell_type": "markdown",
   "id": "68efefcc",
   "metadata": {},
   "source": [
    "## Top 10 Under Performers"
   ]
  },
  {
   "cell_type": "code",
   "execution_count": 33,
   "id": "b62c761a",
   "metadata": {},
   "outputs": [
    {
     "data": {
      "text/html": [
       "<div>\n",
       "<style scoped>\n",
       "    .dataframe tbody tr th:only-of-type {\n",
       "        vertical-align: middle;\n",
       "    }\n",
       "\n",
       "    .dataframe tbody tr th {\n",
       "        vertical-align: top;\n",
       "    }\n",
       "\n",
       "    .dataframe thead th {\n",
       "        text-align: right;\n",
       "    }\n",
       "</style>\n",
       "<table border=\"1\" class=\"dataframe\">\n",
       "  <thead>\n",
       "    <tr style=\"text-align: right;\">\n",
       "      <th></th>\n",
       "      <th>playerID</th>\n",
       "      <th>yearID</th>\n",
       "      <th>stint</th>\n",
       "      <th>teamID</th>\n",
       "      <th>lgID</th>\n",
       "      <th>G</th>\n",
       "      <th>AB</th>\n",
       "      <th>R</th>\n",
       "      <th>H</th>\n",
       "      <th>2B</th>\n",
       "      <th>...</th>\n",
       "      <th>G_dh</th>\n",
       "      <th>AGS</th>\n",
       "      <th>dRAA</th>\n",
       "      <th>RAR</th>\n",
       "      <th>lgID_AL</th>\n",
       "      <th>lgID_NL</th>\n",
       "      <th>career_RAR</th>\n",
       "      <th>PR</th>\n",
       "      <th>P_RAR</th>\n",
       "      <th>Proj_Diff</th>\n",
       "    </tr>\n",
       "  </thead>\n",
       "  <tbody>\n",
       "    <tr>\n",
       "      <th>6961</th>\n",
       "      <td>smoakju01</td>\n",
       "      <td>2010</td>\n",
       "      <td>1</td>\n",
       "      <td>TEX</td>\n",
       "      <td>AL</td>\n",
       "      <td>70</td>\n",
       "      <td>235</td>\n",
       "      <td>29</td>\n",
       "      <td>49</td>\n",
       "      <td>10</td>\n",
       "      <td>...</td>\n",
       "      <td>-0.000000</td>\n",
       "      <td>69.0</td>\n",
       "      <td>-4.180000</td>\n",
       "      <td>28.035092</td>\n",
       "      <td>1</td>\n",
       "      <td>0</td>\n",
       "      <td>284.075635</td>\n",
       "      <td>1</td>\n",
       "      <td>515.953795</td>\n",
       "      <td>231.878159</td>\n",
       "    </tr>\n",
       "    <tr>\n",
       "      <th>6206</th>\n",
       "      <td>beckhgo01</td>\n",
       "      <td>2009</td>\n",
       "      <td>1</td>\n",
       "      <td>CHA</td>\n",
       "      <td>AL</td>\n",
       "      <td>103</td>\n",
       "      <td>378</td>\n",
       "      <td>58</td>\n",
       "      <td>102</td>\n",
       "      <td>28</td>\n",
       "      <td>...</td>\n",
       "      <td>-0.000000</td>\n",
       "      <td>102.0</td>\n",
       "      <td>1.360000</td>\n",
       "      <td>57.883450</td>\n",
       "      <td>1</td>\n",
       "      <td>0</td>\n",
       "      <td>382.040448</td>\n",
       "      <td>1</td>\n",
       "      <td>612.540684</td>\n",
       "      <td>230.500236</td>\n",
       "    </tr>\n",
       "    <tr>\n",
       "      <th>3361</th>\n",
       "      <td>burrepa01</td>\n",
       "      <td>2002</td>\n",
       "      <td>1</td>\n",
       "      <td>PHI</td>\n",
       "      <td>NL</td>\n",
       "      <td>157</td>\n",
       "      <td>586</td>\n",
       "      <td>96</td>\n",
       "      <td>165</td>\n",
       "      <td>39</td>\n",
       "      <td>...</td>\n",
       "      <td>-0.000000</td>\n",
       "      <td>157.0</td>\n",
       "      <td>-7.186667</td>\n",
       "      <td>86.879626</td>\n",
       "      <td>0</td>\n",
       "      <td>1</td>\n",
       "      <td>446.631441</td>\n",
       "      <td>1</td>\n",
       "      <td>676.334864</td>\n",
       "      <td>229.703424</td>\n",
       "    </tr>\n",
       "    <tr>\n",
       "      <th>2640</th>\n",
       "      <td>hidalri01</td>\n",
       "      <td>2000</td>\n",
       "      <td>1</td>\n",
       "      <td>HOU</td>\n",
       "      <td>NL</td>\n",
       "      <td>153</td>\n",
       "      <td>558</td>\n",
       "      <td>118</td>\n",
       "      <td>175</td>\n",
       "      <td>42</td>\n",
       "      <td>...</td>\n",
       "      <td>-0.000000</td>\n",
       "      <td>198.0</td>\n",
       "      <td>-0.995842</td>\n",
       "      <td>98.960255</td>\n",
       "      <td>0</td>\n",
       "      <td>1</td>\n",
       "      <td>468.658749</td>\n",
       "      <td>1</td>\n",
       "      <td>689.163190</td>\n",
       "      <td>220.504441</td>\n",
       "    </tr>\n",
       "    <tr>\n",
       "      <th>7952</th>\n",
       "      <td>alvarpe01</td>\n",
       "      <td>2013</td>\n",
       "      <td>1</td>\n",
       "      <td>PIT</td>\n",
       "      <td>NL</td>\n",
       "      <td>152</td>\n",
       "      <td>558</td>\n",
       "      <td>70</td>\n",
       "      <td>130</td>\n",
       "      <td>22</td>\n",
       "      <td>...</td>\n",
       "      <td>-0.098675</td>\n",
       "      <td>151.0</td>\n",
       "      <td>1.874834</td>\n",
       "      <td>73.473979</td>\n",
       "      <td>0</td>\n",
       "      <td>1</td>\n",
       "      <td>372.090372</td>\n",
       "      <td>1</td>\n",
       "      <td>592.412772</td>\n",
       "      <td>220.322400</td>\n",
       "    </tr>\n",
       "    <tr>\n",
       "      <th>6290</th>\n",
       "      <td>escobyu01</td>\n",
       "      <td>2009</td>\n",
       "      <td>1</td>\n",
       "      <td>ATL</td>\n",
       "      <td>NL</td>\n",
       "      <td>141</td>\n",
       "      <td>528</td>\n",
       "      <td>89</td>\n",
       "      <td>158</td>\n",
       "      <td>26</td>\n",
       "      <td>...</td>\n",
       "      <td>-0.000000</td>\n",
       "      <td>139.0</td>\n",
       "      <td>6.440000</td>\n",
       "      <td>77.627061</td>\n",
       "      <td>0</td>\n",
       "      <td>1</td>\n",
       "      <td>382.988847</td>\n",
       "      <td>0</td>\n",
       "      <td>602.855459</td>\n",
       "      <td>219.866612</td>\n",
       "    </tr>\n",
       "    <tr>\n",
       "      <th>7242</th>\n",
       "      <td>kempma01</td>\n",
       "      <td>2011</td>\n",
       "      <td>1</td>\n",
       "      <td>LAN</td>\n",
       "      <td>NL</td>\n",
       "      <td>161</td>\n",
       "      <td>602</td>\n",
       "      <td>115</td>\n",
       "      <td>195</td>\n",
       "      <td>33</td>\n",
       "      <td>...</td>\n",
       "      <td>-0.198758</td>\n",
       "      <td>161.0</td>\n",
       "      <td>2.434783</td>\n",
       "      <td>110.145968</td>\n",
       "      <td>0</td>\n",
       "      <td>1</td>\n",
       "      <td>616.427708</td>\n",
       "      <td>1</td>\n",
       "      <td>834.704594</td>\n",
       "      <td>218.276886</td>\n",
       "    </tr>\n",
       "    <tr>\n",
       "      <th>2261</th>\n",
       "      <td>jonesch06</td>\n",
       "      <td>1999</td>\n",
       "      <td>1</td>\n",
       "      <td>ATL</td>\n",
       "      <td>NL</td>\n",
       "      <td>157</td>\n",
       "      <td>567</td>\n",
       "      <td>116</td>\n",
       "      <td>181</td>\n",
       "      <td>41</td>\n",
       "      <td>...</td>\n",
       "      <td>-0.000000</td>\n",
       "      <td>157.0</td>\n",
       "      <td>2.126667</td>\n",
       "      <td>114.045408</td>\n",
       "      <td>0</td>\n",
       "      <td>1</td>\n",
       "      <td>653.166231</td>\n",
       "      <td>1</td>\n",
       "      <td>870.880874</td>\n",
       "      <td>217.714644</td>\n",
       "    </tr>\n",
       "    <tr>\n",
       "      <th>3901</th>\n",
       "      <td>huffau01</td>\n",
       "      <td>2003</td>\n",
       "      <td>1</td>\n",
       "      <td>TBA</td>\n",
       "      <td>AL</td>\n",
       "      <td>162</td>\n",
       "      <td>636</td>\n",
       "      <td>91</td>\n",
       "      <td>198</td>\n",
       "      <td>47</td>\n",
       "      <td>...</td>\n",
       "      <td>-3.240000</td>\n",
       "      <td>165.0</td>\n",
       "      <td>-9.176727</td>\n",
       "      <td>89.406366</td>\n",
       "      <td>1</td>\n",
       "      <td>0</td>\n",
       "      <td>432.924520</td>\n",
       "      <td>1</td>\n",
       "      <td>638.069888</td>\n",
       "      <td>205.145368</td>\n",
       "    </tr>\n",
       "    <tr>\n",
       "      <th>7310</th>\n",
       "      <td>morrilo01</td>\n",
       "      <td>2011</td>\n",
       "      <td>1</td>\n",
       "      <td>FLO</td>\n",
       "      <td>NL</td>\n",
       "      <td>123</td>\n",
       "      <td>462</td>\n",
       "      <td>54</td>\n",
       "      <td>114</td>\n",
       "      <td>25</td>\n",
       "      <td>...</td>\n",
       "      <td>-0.098347</td>\n",
       "      <td>121.0</td>\n",
       "      <td>-5.622176</td>\n",
       "      <td>55.024632</td>\n",
       "      <td>0</td>\n",
       "      <td>1</td>\n",
       "      <td>358.984124</td>\n",
       "      <td>1</td>\n",
       "      <td>562.173651</td>\n",
       "      <td>203.189527</td>\n",
       "    </tr>\n",
       "  </tbody>\n",
       "</table>\n",
       "<p>10 rows × 51 columns</p>\n",
       "</div>"
      ],
      "text/plain": [
       "       playerID  yearID  stint teamID lgID    G   AB    R    H  2B  ...  \\\n",
       "6961  smoakju01    2010      1    TEX   AL   70  235   29   49  10  ...   \n",
       "6206  beckhgo01    2009      1    CHA   AL  103  378   58  102  28  ...   \n",
       "3361  burrepa01    2002      1    PHI   NL  157  586   96  165  39  ...   \n",
       "2640  hidalri01    2000      1    HOU   NL  153  558  118  175  42  ...   \n",
       "7952  alvarpe01    2013      1    PIT   NL  152  558   70  130  22  ...   \n",
       "6290  escobyu01    2009      1    ATL   NL  141  528   89  158  26  ...   \n",
       "7242   kempma01    2011      1    LAN   NL  161  602  115  195  33  ...   \n",
       "2261  jonesch06    1999      1    ATL   NL  157  567  116  181  41  ...   \n",
       "3901   huffau01    2003      1    TBA   AL  162  636   91  198  47  ...   \n",
       "7310  morrilo01    2011      1    FLO   NL  123  462   54  114  25  ...   \n",
       "\n",
       "          G_dh    AGS      dRAA         RAR  lgID_AL  lgID_NL  career_RAR  PR  \\\n",
       "6961 -0.000000   69.0 -4.180000   28.035092        1        0  284.075635   1   \n",
       "6206 -0.000000  102.0  1.360000   57.883450        1        0  382.040448   1   \n",
       "3361 -0.000000  157.0 -7.186667   86.879626        0        1  446.631441   1   \n",
       "2640 -0.000000  198.0 -0.995842   98.960255        0        1  468.658749   1   \n",
       "7952 -0.098675  151.0  1.874834   73.473979        0        1  372.090372   1   \n",
       "6290 -0.000000  139.0  6.440000   77.627061        0        1  382.988847   0   \n",
       "7242 -0.198758  161.0  2.434783  110.145968        0        1  616.427708   1   \n",
       "2261 -0.000000  157.0  2.126667  114.045408        0        1  653.166231   1   \n",
       "3901 -3.240000  165.0 -9.176727   89.406366        1        0  432.924520   1   \n",
       "7310 -0.098347  121.0 -5.622176   55.024632        0        1  358.984124   1   \n",
       "\n",
       "           P_RAR   Proj_Diff  \n",
       "6961  515.953795  231.878159  \n",
       "6206  612.540684  230.500236  \n",
       "3361  676.334864  229.703424  \n",
       "2640  689.163190  220.504441  \n",
       "7952  592.412772  220.322400  \n",
       "6290  602.855459  219.866612  \n",
       "7242  834.704594  218.276886  \n",
       "2261  870.880874  217.714644  \n",
       "3901  638.069888  205.145368  \n",
       "7310  562.173651  203.189527  \n",
       "\n",
       "[10 rows x 51 columns]"
      ]
     },
     "execution_count": 33,
     "metadata": {},
     "output_type": "execute_result"
    }
   ],
   "source": [
    "predictions.nlargest(n=10, columns=['Proj_Diff'])"
   ]
  },
  {
   "cell_type": "markdown",
   "id": "b031ead9",
   "metadata": {},
   "source": [
    "Players we have seen play at elite levels have repeatedly overperformed their projections, and their counterparts, the opposite. From a quick cursory glance, it seems that the projections may need to weigh past performance more as single seasons heavily influence the projections, leading to large disparities from one-off season performances. Though commonalities between top performers would certainly be an interesting and worthwhile pursiut."
   ]
  },
  {
   "cell_type": "markdown",
   "id": "bc5e09ae",
   "metadata": {},
   "source": [
    "## Systemic Model Weaknesses"
   ]
  },
  {
   "cell_type": "markdown",
   "id": "1b6a99ef",
   "metadata": {},
   "source": [
    "No model is without fault. There will always be factors that cannot easily be accounted for, yet analysis must continue forth. <br>\n",
    "In this project, notable weaknesses include unacountable factors such as injuries, situational-play, PED/cheating, park and luck factors, and more. There are likely interesting and novel ways to attempt to include them in modelling efforts that would aid in accuracy and robustness<br>\n",
    "From a data/modelling standpoint, I initially attempted to include only players who completed their age 30 season within the provided data, yet this inclusion lead to slightly inflated RMSE values accross all models evaluated. Further exploration into why is something I would like to pursue. Multiple cleaning parameters were also placed upon the training data that has the potential for bias(i.e. AB mins, base-running exclusion, etc...)."
   ]
  },
  {
   "cell_type": "code",
   "execution_count": null,
   "id": "1018c5a1",
   "metadata": {},
   "outputs": [],
   "source": []
  }
 ],
 "metadata": {
  "kernelspec": {
   "display_name": "Python 3 (ipykernel)",
   "language": "python",
   "name": "python3"
  },
  "language_info": {
   "codemirror_mode": {
    "name": "ipython",
    "version": 3
   },
   "file_extension": ".py",
   "mimetype": "text/x-python",
   "name": "python",
   "nbconvert_exporter": "python",
   "pygments_lexer": "ipython3",
   "version": "3.9.12"
  }
 },
 "nbformat": 4,
 "nbformat_minor": 5
}
